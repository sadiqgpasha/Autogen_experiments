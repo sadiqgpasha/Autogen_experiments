{
 "cells": [
  {
   "cell_type": "code",
   "execution_count": 1,
   "id": "dc0182db-f95f-43ee-833e-adba7c8d8a66",
   "metadata": {
    "tags": []
   },
   "outputs": [
    {
     "name": "stdout",
     "output_type": "stream",
     "text": [
      "Collecting google-generativeai\n",
      "  Downloading google_generativeai-0.5.2-py3-none-any.whl.metadata (3.9 kB)\n",
      "Collecting google-ai-generativelanguage==0.6.2 (from google-generativeai)\n",
      "  Downloading google_ai_generativelanguage-0.6.2-py3-none-any.whl.metadata (5.6 kB)\n",
      "Requirement already satisfied: google-api-core in /opt/conda/lib/python3.10/site-packages (from google-generativeai) (1.34.1)\n",
      "Requirement already satisfied: google-api-python-client in /opt/conda/lib/python3.10/site-packages (from google-generativeai) (1.8.0)\n",
      "Requirement already satisfied: google-auth>=2.15.0 in /opt/conda/lib/python3.10/site-packages (from google-generativeai) (2.28.2)\n",
      "Requirement already satisfied: protobuf in /opt/conda/lib/python3.10/site-packages (from google-generativeai) (3.20.3)\n",
      "Requirement already satisfied: pydantic in /opt/conda/lib/python3.10/site-packages (from google-generativeai) (1.10.14)\n",
      "Requirement already satisfied: tqdm in /opt/conda/lib/python3.10/site-packages (from google-generativeai) (4.66.2)\n",
      "Requirement already satisfied: typing-extensions in /opt/conda/lib/python3.10/site-packages (from google-generativeai) (4.10.0)\n",
      "Requirement already satisfied: proto-plus<2.0.0dev,>=1.22.3 in /opt/conda/lib/python3.10/site-packages (from google-ai-generativelanguage==0.6.2->google-generativeai) (1.23.0)\n",
      "Requirement already satisfied: googleapis-common-protos<2.0dev,>=1.56.2 in /opt/conda/lib/python3.10/site-packages (from google-api-core->google-generativeai) (1.63.0)\n",
      "Requirement already satisfied: requests<3.0.0dev,>=2.18.0 in /opt/conda/lib/python3.10/site-packages (from google-api-core->google-generativeai) (2.31.0)\n",
      "Requirement already satisfied: cachetools<6.0,>=2.0.0 in /opt/conda/lib/python3.10/site-packages (from google-auth>=2.15.0->google-generativeai) (5.3.3)\n",
      "Requirement already satisfied: pyasn1-modules>=0.2.1 in /opt/conda/lib/python3.10/site-packages (from google-auth>=2.15.0->google-generativeai) (0.3.0)\n",
      "Requirement already satisfied: rsa<5,>=3.1.4 in /opt/conda/lib/python3.10/site-packages (from google-auth>=2.15.0->google-generativeai) (4.9)\n",
      "Requirement already satisfied: httplib2<1dev,>=0.9.2 in /opt/conda/lib/python3.10/site-packages (from google-api-python-client->google-generativeai) (0.22.0)\n",
      "Requirement already satisfied: google-auth-httplib2>=0.0.3 in /opt/conda/lib/python3.10/site-packages (from google-api-python-client->google-generativeai) (0.2.0)\n",
      "Requirement already satisfied: six<2dev,>=1.6.1 in /opt/conda/lib/python3.10/site-packages (from google-api-python-client->google-generativeai) (1.16.0)\n",
      "Requirement already satisfied: uritemplate<4dev,>=3.0.0 in /opt/conda/lib/python3.10/site-packages (from google-api-python-client->google-generativeai) (3.0.1)\n",
      "Requirement already satisfied: grpcio<2.0dev,>=1.33.2 in /opt/conda/lib/python3.10/site-packages (from google-api-core[grpc]!=2.0.*,!=2.1.*,!=2.10.*,!=2.2.*,!=2.3.*,!=2.4.*,!=2.5.*,!=2.6.*,!=2.7.*,!=2.8.*,!=2.9.*,<3.0.0dev,>=1.34.1->google-ai-generativelanguage==0.6.2->google-generativeai) (1.62.1)\n",
      "Requirement already satisfied: grpcio-status<2.0dev,>=1.33.2 in /opt/conda/lib/python3.10/site-packages (from google-api-core[grpc]!=2.0.*,!=2.1.*,!=2.10.*,!=2.2.*,!=2.3.*,!=2.4.*,!=2.5.*,!=2.6.*,!=2.7.*,!=2.8.*,!=2.9.*,<3.0.0dev,>=1.34.1->google-ai-generativelanguage==0.6.2->google-generativeai) (1.48.2)\n",
      "Requirement already satisfied: pyparsing!=3.0.0,!=3.0.1,!=3.0.2,!=3.0.3,<4,>=2.4.2 in /opt/conda/lib/python3.10/site-packages (from httplib2<1dev,>=0.9.2->google-api-python-client->google-generativeai) (3.1.2)\n",
      "Requirement already satisfied: pyasn1<0.6.0,>=0.4.6 in /opt/conda/lib/python3.10/site-packages (from pyasn1-modules>=0.2.1->google-auth>=2.15.0->google-generativeai) (0.5.1)\n",
      "Requirement already satisfied: charset-normalizer<4,>=2 in /opt/conda/lib/python3.10/site-packages (from requests<3.0.0dev,>=2.18.0->google-api-core->google-generativeai) (3.3.2)\n",
      "Requirement already satisfied: idna<4,>=2.5 in /opt/conda/lib/python3.10/site-packages (from requests<3.0.0dev,>=2.18.0->google-api-core->google-generativeai) (3.6)\n",
      "Requirement already satisfied: urllib3<3,>=1.21.1 in /opt/conda/lib/python3.10/site-packages (from requests<3.0.0dev,>=2.18.0->google-api-core->google-generativeai) (1.26.18)\n",
      "Requirement already satisfied: certifi>=2017.4.17 in /opt/conda/lib/python3.10/site-packages (from requests<3.0.0dev,>=2.18.0->google-api-core->google-generativeai) (2024.2.2)\n",
      "Downloading google_generativeai-0.5.2-py3-none-any.whl (146 kB)\n",
      "\u001b[2K   \u001b[90m━━━━━━━━━━━━━━━━━━━━━━━━━━━━━━━━━━━━━━━━\u001b[0m \u001b[32m146.8/146.8 kB\u001b[0m \u001b[31m4.6 MB/s\u001b[0m eta \u001b[36m0:00:00\u001b[0m\n",
      "\u001b[?25hDownloading google_ai_generativelanguage-0.6.2-py3-none-any.whl (664 kB)\n",
      "\u001b[2K   \u001b[90m━━━━━━━━━━━━━━━━━━━━━━━━━━━━━━━━━━━━━━━━\u001b[0m \u001b[32m664.5/664.5 kB\u001b[0m \u001b[31m13.3 MB/s\u001b[0m eta \u001b[36m0:00:00\u001b[0m00:01\u001b[0m\n",
      "\u001b[?25hInstalling collected packages: google-ai-generativelanguage, google-generativeai\n",
      "Successfully installed google-ai-generativelanguage-0.6.2 google-generativeai-0.5.2\n"
     ]
    }
   ],
   "source": [
    "#!pip install --user google-generativeai"
   ]
  },
  {
   "cell_type": "code",
   "execution_count": 7,
   "id": "9f4be37d-f31b-407e-b9d8-d8d80509568d",
   "metadata": {
    "tags": []
   },
   "outputs": [],
   "source": [
    "import pathlib\n",
    "import textwrap\n",
    "\n",
    "import google.generativeai as genai\n",
    "\n",
    "from IPython.display import display\n",
    "from IPython.display import Markdown\n",
    "\n",
    "\n",
    "def to_markdown(text):\n",
    "    text = text.replace('•', '  *')\n",
    "    return Markdown(textwrap.indent(text, '> ', predicate=lambda _: True))"
   ]
  },
  {
   "cell_type": "code",
   "execution_count": 8,
   "id": "11b62ab5-06c2-4223-b34e-5e0287c7edd9",
   "metadata": {
    "tags": []
   },
   "outputs": [],
   "source": [
    "import os\n",
    "\n",
    "os.environ['GOOGLE_API_KEY']=\"AIzaSyBGPZtYGI-ncmc-xxxxxxxxxxxxxx\""
   ]
  },
  {
   "cell_type": "code",
   "execution_count": 9,
   "id": "8fcd88c4-518e-44cc-bbe5-40d93acad1ba",
   "metadata": {
    "tags": []
   },
   "outputs": [],
   "source": [
    "GOOGLE_API_KEY = os.getenv('GOOGLE_API_KEY')\n",
    "\n",
    "genai.configure(api_key=GOOGLE_API_KEY)"
   ]
  },
  {
   "cell_type": "code",
   "execution_count": 10,
   "id": "01c37074-68aa-4a1e-b191-b03f4a5127fb",
   "metadata": {
    "tags": []
   },
   "outputs": [
    {
     "name": "stdout",
     "output_type": "stream",
     "text": [
      "models/gemini-1.0-pro\n",
      "models/gemini-1.0-pro-001\n",
      "models/gemini-1.0-pro-latest\n",
      "models/gemini-1.0-pro-vision-latest\n",
      "models/gemini-1.5-pro-latest\n",
      "models/gemini-pro\n",
      "models/gemini-pro-vision\n"
     ]
    }
   ],
   "source": [
    "#List the available models\n",
    "for m in genai.list_models():\n",
    "    if 'generateContent' in m.supported_generation_methods:\n",
    "        print(m.name)"
   ]
  },
  {
   "cell_type": "code",
   "execution_count": 5,
   "id": "65412745-0058-414c-85b4-6b42996b99f7",
   "metadata": {
    "tags": []
   },
   "outputs": [],
   "source": [
    "#set the model to gemini-pro\n",
    "\n",
    "model = genai.GenerativeModel('gemini-pro')"
   ]
  },
  {
   "cell_type": "markdown",
   "id": "212f1cd3-aed5-47b7-ba03-68dd5fa882fc",
   "metadata": {
    "tags": []
   },
   "source": [
    "##### Features supported by gemini-pro:\n",
    "\n",
    "- Generate text responses from text inputs.\n",
    "- Use Gemini for multi-turn conversations (chat).\n",
    "- Use embeddings for large language models."
   ]
  },
  {
   "cell_type": "markdown",
   "id": "a158847a-5db7-4057-bdd2-dc197093e2ab",
   "metadata": {},
   "source": [
    "### Generate text responses from text inputs."
   ]
  },
  {
   "cell_type": "code",
   "execution_count": 6,
   "id": "ebe6760d-44a7-48ae-89a7-1ac9596117dc",
   "metadata": {
    "tags": []
   },
   "outputs": [
    {
     "name": "stdout",
     "output_type": "stream",
     "text": [
      "CPU times: user 12.6 ms, sys: 607 µs, total: 13.2 ms\n",
      "Wall time: 7.57 s\n",
      "CPU times: user 13.2 ms, sys: 689 µs, total: 13.9 ms\n",
      "Wall time: 7.57 s\n"
     ]
    }
   ],
   "source": [
    "%%time\n",
    "response = model.generate_content(\"How old is the universe? & Why is the only planet with life is Earth?\")"
   ]
  },
  {
   "cell_type": "code",
   "execution_count": 14,
   "id": "8f8b9c01-759a-4841-ac47-64f90a82cfc3",
   "metadata": {
    "tags": []
   },
   "outputs": [
    {
     "data": {
      "text/markdown": [
       "> **Age of the Universe:**\n",
       "> \n",
       "> The age of the universe is estimated to be around **13.8 billion years**. This estimate is based on various scientific observations, including measurements of the cosmic microwave background radiation, the expansion rate of the universe, and the ages of the oldest stars.\n",
       "> \n",
       "> **Why Earth is the Only Planet with Life (as far as we know):**\n",
       "> \n",
       "> There is still no definitive answer to why Earth is the only known planet with life. However, scientists have identified several factors that may have contributed to the development of life here:\n",
       "> \n",
       "> * **Liquid water:** Liquid water is essential for life as we know it. Earth's proximity to the Sun creates the right temperature conditions for liquid water to exist on its surface.\n",
       "> * **Oxygen-rich atmosphere:** Oxygen is another key element for life. Earth's atmosphere has a high concentration of oxygen, which is produced by photosynthetic organisms.\n",
       "> * **Organic molecules:** The building blocks of life, such as amino acids and nucleic acids, may have formed on Earth in ancient oceans or through processes like hydrothermal vents.\n",
       "> * **Stable environment:** Earth's climate has remained relatively stable for billions of years, providing a conducive environment for life to evolve and thrive.\n",
       "> * **Plate tectonics:** Plate tectonics has played a role in creating diverse habitats and nutrient cycling, both of which are important for life.\n",
       "> * **Lack of Jupiter-like planets:** Other planets in our solar system, such as Jupiter, have strong gravitational fields that could disrupt the formation of life on Earth.\n",
       "> \n",
       "> It's important to note that the presence of life on Earth is still a subject of ongoing research and debate. Scientists continue to search for signs of life elsewhere in the universe, but so far, Earth remains the only known planet with confirmed life."
      ],
      "text/plain": [
       "<IPython.core.display.Markdown object>"
      ]
     },
     "execution_count": 14,
     "metadata": {},
     "output_type": "execute_result"
    }
   ],
   "source": [
    "to_markdown(response.text)"
   ]
  },
  {
   "cell_type": "code",
   "execution_count": 15,
   "id": "8704df4e-a050-48af-991f-a5d39d212b27",
   "metadata": {
    "tags": []
   },
   "outputs": [
    {
     "data": {
      "text/plain": []
     },
     "execution_count": 15,
     "metadata": {},
     "output_type": "execute_result"
    }
   ],
   "source": [
    "#If the API failed to return a result, use GenerateContentResponse.prompt_feedback to see if it was blocked due to safety concerns regarding the prompt.\n",
    "response.prompt_feedback"
   ]
  },
  {
   "cell_type": "markdown",
   "id": "055151ec-59a9-4f63-872a-3b0cdeba6655",
   "metadata": {},
   "source": [
    "### Chat conversations"
   ]
  },
  {
   "cell_type": "markdown",
   "id": "9f70f526-57cd-46cd-8d0d-60eb2b5b6542",
   "metadata": {},
   "source": [
    "Gemini enables you to have freeform conversations across multiple turns. The ChatSession class simplifies the process by managing the state of the conversation, so unlike with generate_content, you do not have to store the conversation history as a list."
   ]
  },
  {
   "cell_type": "code",
   "execution_count": 27,
   "id": "b51796f3-1427-461d-9a9b-30f641fecf84",
   "metadata": {
    "tags": []
   },
   "outputs": [
    {
     "data": {
      "text/plain": [
       "ChatSession(\n",
       "    model=genai.GenerativeModel(\n",
       "        model_name='models/gemini-pro',\n",
       "        generation_config={},\n",
       "        safety_settings={},\n",
       "        tools=None,\n",
       "        system_instruction=None,\n",
       "    ),\n",
       "    history=[]\n",
       ")"
      ]
     },
     "execution_count": 27,
     "metadata": {},
     "output_type": "execute_result"
    }
   ],
   "source": [
    "#Initialize Chat\n",
    "\n",
    "model = genai.GenerativeModel('gemini-pro')\n",
    "chat = model.start_chat(history=[])\n",
    "chat"
   ]
  },
  {
   "cell_type": "code",
   "execution_count": 28,
   "id": "cc08262d-6af1-471d-b13a-a5f415d4f4f3",
   "metadata": {
    "tags": []
   },
   "outputs": [
    {
     "data": {
      "text/markdown": [
       "> Quantum computers use special bits called qubits that can be in multiple states at the same time, allowing them to solve problems much faster than regular computers."
      ],
      "text/plain": [
       "<IPython.core.display.Markdown object>"
      ]
     },
     "execution_count": 28,
     "metadata": {},
     "output_type": "execute_result"
    }
   ],
   "source": [
    "response = chat.send_message(\"In one sentence, explain how does a quantum computer work to a young child.\")\n",
    "to_markdown(response.text)"
   ]
  },
  {
   "cell_type": "code",
   "execution_count": 29,
   "id": "c3367a66-4840-47a7-974c-2e4040bfbb9b",
   "metadata": {
    "tags": []
   },
   "outputs": [
    {
     "data": {
      "text/plain": [
       "[parts {\n",
       "   text: \"In one sentence, explain how does a quantum computer work to a young child.\"\n",
       " }\n",
       " role: \"user\",\n",
       " parts {\n",
       "   text: \"Quantum computers use special bits called qubits that can be in multiple states at the same time, allowing them to solve problems much faster than regular computers.\"\n",
       " }\n",
       " role: \"model\"]"
      ]
     },
     "execution_count": 29,
     "metadata": {},
     "output_type": "execute_result"
    }
   ],
   "source": [
    "chat.history"
   ]
  },
  {
   "cell_type": "code",
   "execution_count": 30,
   "id": "1e1c5caa-5e24-4390-be22-c0ecaddf5aff",
   "metadata": {
    "tags": []
   },
   "outputs": [
    {
     "data": {
      "text/markdown": [
       "> **user**: In one sentence, explain how does a quantum computer work to a young child."
      ],
      "text/plain": [
       "<IPython.core.display.Markdown object>"
      ]
     },
     "metadata": {},
     "output_type": "display_data"
    },
    {
     "data": {
      "text/markdown": [
       "> **model**: Quantum computers use special bits called qubits that can be in multiple states at the same time, allowing them to solve problems much faster than regular computers."
      ],
      "text/plain": [
       "<IPython.core.display.Markdown object>"
      ]
     },
     "metadata": {},
     "output_type": "display_data"
    }
   ],
   "source": [
    "for message in chat.history:\n",
    "    display(to_markdown(f'**{message.role}**: {message.parts[0].text}'))"
   ]
  },
  {
   "cell_type": "code",
   "execution_count": 31,
   "id": "7026c3cf-c2c5-4a87-a5bf-932bf1fa2bb0",
   "metadata": {
    "tags": []
   },
   "outputs": [
    {
     "data": {
      "text/plain": [
       "total_tokens: 16"
      ]
     },
     "execution_count": 31,
     "metadata": {},
     "output_type": "execute_result"
    }
   ],
   "source": [
    "model.count_tokens(\"In one sentence, explain how does a quantum computer work to a young child.\")"
   ]
  },
  {
   "cell_type": "markdown",
   "id": "aefc45d1-6f91-481f-ab19-0058d99af98b",
   "metadata": {
    "tags": []
   },
   "source": [
    "### Use embeddings"
   ]
  },
  {
   "cell_type": "markdown",
   "id": "03338ee9-8a0b-49b7-8e55-c210d08de09d",
   "metadata": {},
   "source": [
    "Embedding is a technique used to represent information as a list of floating point numbers in an array. With Gemini, you can represent text (words, sentences, and blocks of text) in a vectorized form, making it easier to compare and contrast embeddings. For example, two texts that share a similar subject matter or sentiment should have similar embeddings, which can be identified through mathematical comparison techniques such as cosine similarity. For more on how and why you should use embeddings, refer to the Embeddings guide(https://ai.google.dev/docs/embeddings_guide)."
   ]
  },
  {
   "cell_type": "markdown",
   "id": "92ecabce-c67f-4a36-92fa-8d0deb1e00f4",
   "metadata": {},
   "source": [
    "Use the embed_content method to generate embeddings. The method handles embedding for the following tasks (task_type):\n",
    "\n",
    "    Task Type\tDescription\n",
    "    \n",
    "    RETRIEVAL_QUERY\tSpecifies the given text is a query in a search/retrieval setting.\n",
    "    RETRIEVAL_DOCUMENT\tSpecifies the given text is a document in a search/retrieval setting. Using this task type requires a title.\n",
    "    SEMANTIC_SIMILARITY\tSpecifies the given text will be used for Semantic Textual Similarity (STS).\n",
    "    CLASSIFICATION\tSpecifies that the embeddings will be used for classification.\n",
    "    CLUSTERING\tSpecifies that the embeddings will be used for clustering."
   ]
  },
  {
   "cell_type": "code",
   "execution_count": 33,
   "id": "b11db5d6-6a4b-4202-854c-efa0eef6dccf",
   "metadata": {
    "tags": []
   },
   "outputs": [
    {
     "name": "stdout",
     "output_type": "stream",
     "text": [
      "[-0.004564704, -0.020940237, -0.014654078, 0.00754 ... TRIMMED]\n"
     ]
    }
   ],
   "source": [
    "result = genai.embed_content(\n",
    "    model=\"models/embedding-001\",\n",
    "    content=\"What is the meaning of being human?\",\n",
    "    task_type=\"retrieval_document\",\n",
    "    title=\"Embedding of single string\")\n",
    "\n",
    "# 1 input > 1 vector output\n",
    "print(str(result['embedding'])[:50], '... TRIMMED]')"
   ]
  },
  {
   "cell_type": "code",
   "execution_count": 34,
   "id": "7c601847-470f-4dd5-8110-94fa433cb38d",
   "metadata": {
    "tags": []
   },
   "outputs": [
    {
     "name": "stdout",
     "output_type": "stream",
     "text": [
      "[-0.004564704, -0.020940237, -0.014654078, 0.00754 ... TRIMMED ...\n",
      "[0.019193657, -0.010098224, 0.0055754078, 0.002361 ... TRIMMED ...\n"
     ]
    }
   ],
   "source": [
    "result = genai.embed_content(\n",
    "    model=\"models/embedding-001\",\n",
    "    content= [\"What is the meaning of being human?\", \"How does a human showcase humanity?\"],\n",
    "    task_type=\"retrieval_document\",\n",
    "    title=\"Embedding of single string\")\n",
    "\n",
    "# A list of inputs > A list of vectors output\n",
    "for v in result['embedding']:\n",
    "  print(str(v)[:50], '... TRIMMED ...')"
   ]
  },
  {
   "cell_type": "markdown",
   "id": "cddfaa08-c609-4826-a8fa-37e100c4cf6f",
   "metadata": {},
   "source": [
    "### Multi-turn Chat\n",
    "\n",
    "While the genai.ChatSession class shown earlier can handle many use cases, it does make some assumptions. If your use case doesn't fit into this chat implementation it's good to remember that genai.ChatSession is just a wrapper around GenerativeModel.generate_content. In addition to single requests, it can handle multi-turn conversations.\n",
    "\n",
    "The individual messages are glm.Content objects or compatible dictionaries, as seen in previous sections. As a dictionary, the message requires role and parts keys. The role in a conversation can either be the user, which provides the prompts, or model, which provides the responses.\n",
    "\n",
    "Pass a list of **glm.Content** objects and it will be treated as multi-turn chat:"
   ]
  },
  {
   "cell_type": "code",
   "execution_count": 36,
   "id": "0e99cf05-7b24-4c1d-850b-f3b6b56c2f81",
   "metadata": {
    "tags": []
   },
   "outputs": [
    {
     "data": {
      "text/markdown": [
       "> Imagine a super smart robot helper called a computer. It's like a wizard that can do lots of things when we tell it what to do.\n",
       "> \n",
       "> Inside the computer, there's a tiny brain called a processor, which is like the boss. It has special parts called memory for remembering things, like your favorite games or movies.\n",
       "> \n",
       "> The computer has wires like roads that connect everything. It uses electricity to power up and make everything work.\n",
       "> \n",
       "> When you click on something with the mouse or type on the keyboard, it sends messages to the brain. The brain reads the messages and decides what to do.\n",
       "> \n",
       "> For example, if you click on a game icon, the brain loads the game from memory so you can play it. It makes the characters move and the music play.\n",
       "> \n",
       "> Just like you need to know words to talk, computers need programs to tell them what to do. Programs are like recipes that the brain follows.\n",
       "> \n",
       "> And that's how a computer works! It's a magical tool that helps us learn, play, and create amazing things."
      ],
      "text/plain": [
       "<IPython.core.display.Markdown object>"
      ]
     },
     "execution_count": 36,
     "metadata": {},
     "output_type": "execute_result"
    }
   ],
   "source": [
    "model = genai.GenerativeModel('gemini-pro')\n",
    "\n",
    "messages = [\n",
    "    {'role':'user',\n",
    "     'parts': [\"Briefly explain how a computer works to a young child.\"]}\n",
    "]\n",
    "response = model.generate_content(messages)\n",
    "\n",
    "to_markdown(response.text)"
   ]
  },
  {
   "cell_type": "markdown",
   "id": "fab91219-0dee-409f-b7bb-3faf51d7b2ff",
   "metadata": {},
   "source": [
    "Note: For multi-turn conversations, you need to send the whole conversation history with each request. The API is stateless."
   ]
  },
  {
   "cell_type": "code",
   "execution_count": 37,
   "id": "7542bfb2-72f1-4892-8b11-8e0853296713",
   "metadata": {
    "tags": []
   },
   "outputs": [
    {
     "data": {
      "text/markdown": [
       "> **How a Computer Works for a High School Student**\n",
       "> \n",
       "> A computer is an electronic device that can be programmed to carry out a set of instructions. It consists of hardware and software.\n",
       "> \n",
       "> **Hardware** is the physical components of a computer, such as the processor, memory, storage devices, input devices (e.g., keyboard, mouse), and output devices (e.g., monitor, printer).\n",
       "> \n",
       "> **Software** is a set of instructions that tells the computer what to do. Software includes operating systems, application programs, and drivers.\n",
       "> \n",
       "> **How a Computer Works**\n",
       "> \n",
       "> 1. **Input:** The user enters data and instructions into the computer using input devices such as the keyboard or mouse.\n",
       "> 2. **Processing:** The processor, or CPU (Central Processing Unit), executes the instructions and performs calculations.\n",
       "> 3. **Memory:** The computer stores data and instructions in memory, which is a temporary storage area.\n",
       "> 4. **Storage:** The computer stores data and instructions permanently on storage devices such as hard drives or solid-state drives.\n",
       "> 5. **Output:** The computer displays the results of the processing on output devices such as the monitor or printer.\n",
       "> \n",
       "> **Key Components of a Computer**\n",
       "> \n",
       "> * **Processor (CPU):** The brain of the computer that executes instructions and performs calculations.\n",
       "> * **Memory (RAM):** Temporary storage area that holds data and instructions being processed by the CPU.\n",
       "> * **Storage (Hard Drive/SSD):** Permanent storage area that stores data and instructions.\n",
       "> * **Graphics Card:** Processes and displays images on the monitor.\n",
       "> * **Network Card:** Connects the computer to a network.\n",
       "> * **Operating System:** Software that manages the computer's hardware and software resources.\n",
       "> * **Application Programs:** Software that performs specific tasks, such as word processing, web browsing, or playing games.\n",
       "> \n",
       "> **How a Computer Program Works**\n",
       "> \n",
       "> A computer program is a set of instructions that tells the computer what to do. Programs are written in programming languages, which are translated into machine code that the computer can understand.\n",
       "> \n",
       "> When a program is executed, the computer loads the program into memory and the CPU begins executing the instructions one by one. The CPU reads data from memory or storage, performs calculations, and stores the results back in memory or storage.\n",
       "> \n",
       "> **Example**\n",
       "> \n",
       "> Let's say you want to use a word processor to write a letter.\n",
       "> \n",
       "> 1. **Input:** You type the text of the letter using the keyboard.\n",
       "> 2. **Processing:** The word processor software processes the text, checking for spelling and grammar errors, and formatting the text.\n",
       "> 3. **Memory:** The word processor stores the text of the letter in memory.\n",
       "> 4. **Storage:** When you save the letter, the word processor stores the file on your hard drive.\n",
       "> 5. **Output:** You can print the letter using a printer or display it on the monitor."
      ],
      "text/plain": [
       "<IPython.core.display.Markdown object>"
      ]
     },
     "execution_count": 37,
     "metadata": {},
     "output_type": "execute_result"
    }
   ],
   "source": [
    "\n",
    "\n",
    "messages.append({'role':'model',\n",
    "                 'parts':[response.text]})\n",
    "\n",
    "messages.append({'role':'user',\n",
    "                 'parts':[\"Okay, how about a more detailed explanation to a high school student?\"]})\n",
    "\n",
    "response = model.generate_content(messages)\n",
    "\n",
    "to_markdown(response.text)"
   ]
  },
  {
   "cell_type": "markdown",
   "id": "b769e272-e9fa-42b1-9ad9-0f5693213608",
   "metadata": {},
   "source": [
    "The generation_config argument allows you to modify the generation parameters. Every prompt you send to the model includes parameter values that control how the model generates responses."
   ]
  },
  {
   "cell_type": "code",
   "execution_count": 52,
   "id": "727d1467-09bb-4e36-8813-463b9cb14a44",
   "metadata": {
    "tags": []
   },
   "outputs": [],
   "source": [
    "model = genai.GenerativeModel('gemini-pro')\n",
    "response = model.generate_content(\n",
    "    'what is fire in molecular physics',\n",
    "    generation_config=genai.types.GenerationConfig(\n",
    "        # Only one candidate for now.\n",
    "        candidate_count=1,\n",
    "        stop_sequences=['x'],\n",
    "        max_output_tokens=20,\n",
    "        temperature=1.0)\n",
    ")"
   ]
  },
  {
   "cell_type": "code",
   "execution_count": 53,
   "id": "f00c1bd0-fb21-4e81-8c8b-fd1ae95031f6",
   "metadata": {
    "tags": []
   },
   "outputs": [
    {
     "data": {
      "text/markdown": [
       "> In molecular physics, fire refers to a chemical process characterized by a rapid o"
      ],
      "text/plain": [
       "<IPython.core.display.Markdown object>"
      ]
     },
     "execution_count": 53,
     "metadata": {},
     "output_type": "execute_result"
    }
   ],
   "source": [
    "text = response.text\n",
    "\n",
    "if response.candidates[0].finish_reason.name == \"MAX_TOKENS\":\n",
    "    text += '?'\n",
    "\n",
    "to_markdown(text)"
   ]
  },
  {
   "cell_type": "code",
   "execution_count": null,
   "id": "8b10b352-e439-42c7-9337-9c7cc1f27e0d",
   "metadata": {},
   "outputs": [],
   "source": []
  }
 ],
 "metadata": {
  "kernelspec": {
   "display_name": "Python (Local)",
   "language": "python",
   "name": "base"
  },
  "language_info": {
   "codemirror_mode": {
    "name": "ipython",
    "version": 3
   },
   "file_extension": ".py",
   "mimetype": "text/x-python",
   "name": "python",
   "nbconvert_exporter": "python",
   "pygments_lexer": "ipython3",
   "version": "3.10.13"
  }
 },
 "nbformat": 4,
 "nbformat_minor": 5
}
